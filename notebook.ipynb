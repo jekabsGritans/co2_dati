{
 "cells": [
  {
   "cell_type": "code",
   "execution_count": 5,
   "metadata": {},
   "outputs": [
    {
     "data": {
      "text/html": [
       "<div>\n",
       "<style scoped>\n",
       "    .dataframe tbody tr th:only-of-type {\n",
       "        vertical-align: middle;\n",
       "    }\n",
       "\n",
       "    .dataframe tbody tr th {\n",
       "        vertical-align: top;\n",
       "    }\n",
       "\n",
       "    .dataframe thead th {\n",
       "        text-align: right;\n",
       "    }\n",
       "</style>\n",
       "<table border=\"1\" class=\"dataframe\">\n",
       "  <thead>\n",
       "    <tr style=\"text-align: right;\">\n",
       "      <th></th>\n",
       "      <th>timestamp</th>\n",
       "      <th>room_id</th>\n",
       "      <th>co2</th>\n",
       "      <th>temperature</th>\n",
       "      <th>humidity</th>\n",
       "    </tr>\n",
       "  </thead>\n",
       "  <tbody>\n",
       "    <tr>\n",
       "      <th>0</th>\n",
       "      <td>2022-11-16 15:30:02+00:00</td>\n",
       "      <td>37239</td>\n",
       "      <td>1371</td>\n",
       "      <td>19.6</td>\n",
       "      <td>48</td>\n",
       "    </tr>\n",
       "    <tr>\n",
       "      <th>1</th>\n",
       "      <td>2022-11-16 15:32:02+00:00</td>\n",
       "      <td>37239</td>\n",
       "      <td>1367</td>\n",
       "      <td>19.6</td>\n",
       "      <td>48</td>\n",
       "    </tr>\n",
       "    <tr>\n",
       "      <th>2</th>\n",
       "      <td>2022-11-16 15:34:02+00:00</td>\n",
       "      <td>37239</td>\n",
       "      <td>1390</td>\n",
       "      <td>19.6</td>\n",
       "      <td>48</td>\n",
       "    </tr>\n",
       "    <tr>\n",
       "      <th>3</th>\n",
       "      <td>2022-11-16 15:36:02+00:00</td>\n",
       "      <td>37239</td>\n",
       "      <td>1384</td>\n",
       "      <td>19.6</td>\n",
       "      <td>48</td>\n",
       "    </tr>\n",
       "    <tr>\n",
       "      <th>4</th>\n",
       "      <td>2022-11-16 15:38:02+00:00</td>\n",
       "      <td>37239</td>\n",
       "      <td>1377</td>\n",
       "      <td>19.6</td>\n",
       "      <td>48</td>\n",
       "    </tr>\n",
       "  </tbody>\n",
       "</table>\n",
       "</div>"
      ],
      "text/plain": [
       "                   timestamp  room_id   co2  temperature  humidity\n",
       "0  2022-11-16 15:30:02+00:00    37239  1371         19.6        48\n",
       "1  2022-11-16 15:32:02+00:00    37239  1367         19.6        48\n",
       "2  2022-11-16 15:34:02+00:00    37239  1390         19.6        48\n",
       "3  2022-11-16 15:36:02+00:00    37239  1384         19.6        48\n",
       "4  2022-11-16 15:38:02+00:00    37239  1377         19.6        48"
      ]
     },
     "execution_count": 5,
     "metadata": {},
     "output_type": "execute_result"
    }
   ],
   "source": [
    "import pandas as pd\n",
    "df = pd.read_csv('data/1003.csv')\n",
    "df.head()"
   ]
  },
  {
   "cell_type": "code",
   "execution_count": null,
   "metadata": {},
   "outputs": [],
   "source": []
  }
 ],
 "metadata": {
  "kernelspec": {
   "display_name": "Python 3.9.12 ('venv': venv)",
   "language": "python",
   "name": "python3"
  },
  "language_info": {
   "codemirror_mode": {
    "name": "ipython",
    "version": 3
   },
   "file_extension": ".py",
   "mimetype": "text/x-python",
   "name": "python",
   "nbconvert_exporter": "python",
   "pygments_lexer": "ipython3",
   "version": "3.9.12"
  },
  "orig_nbformat": 4,
  "vscode": {
   "interpreter": {
    "hash": "9cf872a109a8b1e69ffdcb886504959b30d954ed6f3c1d741ebd0b8f664d44a6"
   }
  }
 },
 "nbformat": 4,
 "nbformat_minor": 2
}
